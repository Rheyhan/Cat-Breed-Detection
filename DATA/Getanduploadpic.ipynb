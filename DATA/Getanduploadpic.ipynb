{
 "cells": [
  {
   "cell_type": "code",
   "execution_count": 31,
   "metadata": {},
   "outputs": [],
   "source": [
    "from tqdm.notebook import tqdm\n",
    "import os"
   ]
  },
  {
   "cell_type": "markdown",
   "metadata": {},
   "source": [
    "#Get picture"
   ]
  },
  {
   "cell_type": "code",
   "execution_count": 32,
   "metadata": {},
   "outputs": [],
   "source": [
    "from simple_image_download import simple_image_download as simp"
   ]
  },
  {
   "cell_type": "code",
   "execution_count": 34,
   "metadata": {},
   "outputs": [],
   "source": [
    "#download picture from googles\n",
    "r=simp.simple_image_download\n",
    "\n",
    "search=[\"kucing\", \"Anjing\"]\n",
    "\n",
    "for i in search:\n",
    "    r().download(keywords=i, limit=10)\n",
    "    \n",
    "#remove 1-4 in each\n",
    "for folder in os.listdir(\"simple_images\"):\n",
    "    for file in os.listdir(\"simple_images/\"+folder):\n",
    "        if int(file.split(\".\")[0].split(\"_\")[1]) in range(1,5):\n",
    "            os.remove(f'simple_images/{folder}/{file}')"
   ]
  },
  {
   "cell_type": "markdown",
   "metadata": {},
   "source": [
    "#Upload pic to roboflow"
   ]
  },
  {
   "cell_type": "code",
   "execution_count": 3,
   "metadata": {},
   "outputs": [
    {
     "name": "stdout",
     "output_type": "stream",
     "text": [
      "loading Roboflow workspace...\n",
      "{\n",
      "  \"name\": \"Rheyhan F\",\n",
      "  \"url\": \"rheyhan-f-p5isj\",\n",
      "  \"projects\": [\n",
      "    \"rheyhan-f-p5isj/cat-breeds-itu1x\",\n",
      "    \"rheyhan-f-p5isj/hard-hat-sample-r6sfm\"\n",
      "  ]\n",
      "}\n",
      "loading Roboflow workspace...\n",
      "loading Roboflow project...\n"
     ]
    }
   ],
   "source": [
    "from roboflow import Roboflow\n",
    "\n",
    "# Initialize the Roboflow object with your API key\n",
    "rf = Roboflow(api_key=\"37GeAzmSirUUWFoGiuWS\")\n",
    "\n",
    "# Retrieve your current workspace and project name\n",
    "print(rf.workspace())\n",
    "\n",
    "# Specify the project for upload\n",
    "# let's you have a project at https://app.roboflow.com/my-workspace/my-project\n",
    "workspaceId = 'rheyhan-f-p5isj'\n",
    "projectId = 'cat-breeds-itu1x'\n",
    "project = rf.workspace(workspaceId).project(projectId)"
   ]
  },
  {
   "cell_type": "code",
   "execution_count": 46,
   "metadata": {},
   "outputs": [
    {
     "data": {
      "application/vnd.jupyter.widget-view+json": {
       "model_id": "36e8eeba8f1a4e50b02ebddc1675925a",
       "version_major": 2,
       "version_minor": 0
      },
      "text/plain": [
       "  0%|          | 0/12 [00:00<?, ?it/s]"
      ]
     },
     "metadata": {},
     "output_type": "display_data"
    },
    {
     "name": "stdout",
     "output_type": "stream",
     "text": [
      "Fail to upload : simple_images/Anjing/Anjing_6.jpg\n",
      "Fail to upload : simple_images/Anjing/Anjing_7.jpg\n",
      "Fail to upload : simple_images/kucing/kucing_6.jpg\n"
     ]
    }
   ],
   "source": [
    "def uploadpic(path, save=True):\n",
    "    picpath=[]\n",
    "    for folder in os.listdir(path):\n",
    "        for filename in os.listdir(path+\"/\"+folder):\n",
    "            if filename.endswith(\".jpg\") or filename.endswith(\".png\"):\n",
    "                picpath.append(f'{path}/{folder}/{filename}')\n",
    "    \n",
    "    for i in tqdm(range(len(picpath))):\n",
    "        try:\n",
    "            project.upload(picpath[i])\n",
    "        except:\n",
    "            print(f'Fail to upload : {picpath[i]}')\n",
    "    \n",
    "    if not save:\n",
    "        os.remove(path)\n",
    "                \n",
    "uploadpic(\"simple_images\")"
   ]
  },
  {
   "cell_type": "markdown",
   "metadata": {},
   "source": [
    "#Get label from roboflow"
   ]
  },
  {
   "cell_type": "code",
   "execution_count": 49,
   "metadata": {},
   "outputs": [
    {
     "name": "stdout",
     "output_type": "stream",
     "text": [
      "Dependency ultralytics==8.0.196 is required but found version=8.0.227, to fix: `pip install ultralytics==8.0.196`\n",
      "Exporting format yolov8 in progress : 85.0%\n",
      "Version export complete for yolov8 format\n"
     ]
    },
    {
     "name": "stderr",
     "output_type": "stream",
     "text": [
      "Downloading Dataset Version Zip in Cat-breeds-1 to yolov8:: 100%|██████████| 231/231 [00:00<00:00, 396.48it/s]"
     ]
    },
    {
     "name": "stdout",
     "output_type": "stream",
     "text": [
      "\n"
     ]
    },
    {
     "name": "stderr",
     "output_type": "stream",
     "text": [
      "\n",
      "Extracting Dataset Version Zip to Cat-breeds-1 in yolov8:: 100%|██████████| 25/25 [00:00<00:00, 3347.41it/s]\n"
     ]
    },
    {
     "data": {
      "text/plain": [
       "<roboflow.core.dataset.Dataset at 0x7fd2e87623b0>"
      ]
     },
     "execution_count": 49,
     "metadata": {},
     "output_type": "execute_result"
    }
   ],
   "source": [
    "project.version(1).download(\"yolov8\")"
   ]
  },
  {
   "cell_type": "code",
   "execution_count": 53,
   "metadata": {},
   "outputs": [
    {
     "name": "stdout",
     "output_type": "stream",
     "text": [
      "loading Roboflow workspace...\n",
      "loading Roboflow project...\n",
      "Dependency ultralytics==8.0.196 is required but found version=8.0.227, to fix: `pip install ultralytics==8.0.196`\n"
     ]
    },
    {
     "name": "stderr",
     "output_type": "stream",
     "text": [
      "Downloading Dataset Version Zip in Cat-Breed-Classification-1 to yolov8:: 100%|██████████| 63179/63179 [00:18<00:00, 3339.52it/s]"
     ]
    },
    {
     "name": "stdout",
     "output_type": "stream",
     "text": [
      "\n"
     ]
    },
    {
     "name": "stderr",
     "output_type": "stream",
     "text": [
      "\n",
      "Extracting Dataset Version Zip to Cat-Breed-Classification-1 in yolov8:: 100%|██████████| 972/972 [00:00<00:00, 3856.16it/s]\n"
     ]
    }
   ],
   "source": [
    "#download someone else's dataset\n",
    "rf = Roboflow(api_key=\"37GeAzmSirUUWFoGiuWS\")\n",
    "project = rf.workspace(\"diffran-nur-cahyo-egmuz\").project(\"cat-breed-classification\")\n",
    "dataset = project.version(1).download(\"yolov8\")"
   ]
  }
 ],
 "metadata": {
  "kernelspec": {
   "display_name": "conda3.10",
   "language": "python",
   "name": "python3"
  },
  "language_info": {
   "codemirror_mode": {
    "name": "ipython",
    "version": 3
   },
   "file_extension": ".py",
   "mimetype": "text/x-python",
   "name": "python",
   "nbconvert_exporter": "python",
   "pygments_lexer": "ipython3",
   "version": "3.10.13"
  }
 },
 "nbformat": 4,
 "nbformat_minor": 2
}
